{
  "nbformat": 4,
  "nbformat_minor": 0,
  "metadata": {
    "colab": {
      "provenance": []
    },
    "kernelspec": {
      "name": "python3",
      "display_name": "Python 3"
    },
    "language_info": {
      "name": "python"
    }
  },
  "cells": [
    {
      "cell_type": "markdown",
      "source": [
        "# **BUILDER DESIGN PATTERN**\n",
        "\n",
        "**Problem**"
      ],
      "metadata": {
        "id": "F2AWwl6miVxS"
      }
    },
    {
      "cell_type": "code",
      "execution_count": null,
      "metadata": {
        "id": "k-x92edIiKa0"
      },
      "outputs": [],
      "source": [
        "class Home:\n",
        "    def __init__(self, rooms, area):\n",
        "        self.rooms = rooms\n",
        "        self.area = area\n",
        "\n",
        "    def get_details(self):\n",
        "        return f\"Home with {self.rooms} room(s), {self.area} sq. ft.\"\n",
        "\n",
        "class Apartment(Home):\n",
        "    def __init__(self, rooms, area, floor):\n",
        "        super().__init__(rooms, area)\n",
        "        self.floor = floor\n",
        "\n",
        "    def get_details(self):\n",
        "        return f\"Apartment with {self.rooms} room(s), {self.area} sq. ft., on floor {self.floor}\"\n",
        "\n",
        "class Villa(Home):\n",
        "    def __init__(self, rooms, area, garden):\n",
        "        super().__init__(rooms, area)\n",
        "        self.garden = garden\n",
        "\n",
        "    def get_details(self):\n",
        "        return f\"Villa with {self.rooms} room(s), {self.area} sq. ft., garden: {self.garden}\"\n",
        "\n",
        "apartment= Apartment(rooms=2, area=100, floor=\"wood\")\n",
        "villa = Villa(rooms=5, area=200, garden=\"Two Tree\")\n"
      ]
    },
    {
      "cell_type": "markdown",
      "source": [
        "**Constructor call petty ugly**"
      ],
      "metadata": {
        "id": "gcr_ZqSBOar-"
      }
    },
    {
      "cell_type": "code",
      "source": [
        "class House:\n",
        "    def __init__(self, walls, floor, door, windows, roof, garden, rooms, area):\n",
        "        self.walls = walls\n",
        "        self.floor = floor\n",
        "        self.door = door\n",
        "        self.windows = windows\n",
        "        self.roof = roof\n",
        "        self.garden = garden\n",
        "        self.rooms = rooms\n",
        "        self.area = area\n",
        "\n",
        "apartment = Home(walls = None, floor = None, door = None, windows = None, roof = None, garden = None , rooms =2, area = 100)\n",
        "villa = Home(walls = None, floor = None, door = None, windows = None, roof = None, garden = \"Two Tree\" , rooms =5, area = 200)"
      ],
      "metadata": {
        "id": "614ciTCPOgem"
      },
      "execution_count": null,
      "outputs": []
    },
    {
      "cell_type": "markdown",
      "source": [
        "**Solution**"
      ],
      "metadata": {
        "id": "jbqLvtYjQqnf"
      }
    },
    {
      "cell_type": "code",
      "source": [
        "class Home:\n",
        "    def __init__(self):\n",
        "        self.rooms = 0\n",
        "        self.has_garden = False\n",
        "        self.flooring = None\n",
        "\n",
        "    def __str__(self):\n",
        "        return f\"Home with {self.rooms} room(s), garden: {self.has_garden}, flooring: {self.flooring}\"\n",
        "\n",
        "class HomeBuilder:\n",
        "    def __init__(self):\n",
        "        self.home = Home()\n",
        "\n",
        "    def set_rooms(self, rooms):\n",
        "        self.home.rooms = rooms\n",
        "        return self\n",
        "\n",
        "    def set_garden(self, has_garden):\n",
        "        self.home.has_garden = has_garden\n",
        "        return self\n",
        "\n",
        "    def set_flooring(self, flooring):\n",
        "        self.home.flooring = flooring\n",
        "        return self\n",
        "\n",
        "    def build(self):\n",
        "        return self.home\n",
        "\n",
        "builder = HomeBuilder()\n",
        "apartment = builder.set_rooms(2).set_flooring(\"wooden\").build()\n",
        "villa = builder.set_rooms(5).set_garden(True).set_flooring(\"wooden\").build()"
      ],
      "metadata": {
        "id": "9bjxC_cBQqLP"
      },
      "execution_count": null,
      "outputs": []
    },
    {
      "cell_type": "markdown",
      "source": [
        "**Solution used Director**"
      ],
      "metadata": {
        "id": "O2_LXmHNV_6w"
      }
    },
    {
      "cell_type": "code",
      "source": [
        "from abc import ABC, abstractmethod\n",
        "\n",
        "\n",
        "class Car:\n",
        "    def __init__(self):\n",
        "        self.make = None\n",
        "        self.model = None\n",
        "        self.transmission = None\n",
        "        self.color = None\n",
        "\n",
        "    def __str__(self):\n",
        "        return f\"Car: {self.make} {self.model}, Transmission: {self.transmission}, Color: {self.color}\"\n",
        "\n",
        "\n",
        "class CarBuilder(ABC):\n",
        "    def __init__(self):\n",
        "        self.car = Car()\n",
        "\n",
        "    @abstractmethod\n",
        "    def build_make(self):\n",
        "        pass\n",
        "\n",
        "    @abstractmethod\n",
        "    def build_model(self):\n",
        "        pass\n",
        "\n",
        "    @abstractmethod\n",
        "    def build_transmission(self):\n",
        "        pass\n",
        "\n",
        "    @abstractmethod\n",
        "    def build_color(self):\n",
        "        pass\n",
        "\n",
        "    def get_car(self):\n",
        "        return self.car\n",
        "\n",
        "\n",
        "class ManualCarBuilder(CarBuilder):\n",
        "    def build_make(self):\n",
        "        self.car.make = \"Manual Make\"\n",
        "\n",
        "    def build_model(self):\n",
        "        self.car.model = \"Manual Model\"\n",
        "\n",
        "    def build_transmission(self):\n",
        "        self.car.transmission = \"Manual\"\n",
        "\n",
        "    def build_color(self):\n",
        "        self.car.color = \"Manual Color\"\n",
        "\n",
        "\n",
        "class AutomaticCarBuilder(CarBuilder):\n",
        "    def build_make(self):\n",
        "        self.car.make = \"Automatic Make\"\n",
        "\n",
        "    def build_model(self):\n",
        "        self.car.model = \"Automatic Model\"\n",
        "\n",
        "    def build_transmission(self):\n",
        "        self.car.transmission = \"Automatic\"\n",
        "\n",
        "    def build_color(self):\n",
        "        self.car.color = \"Automatic Color\"\n",
        "\n",
        "\n",
        "class CarManufacturer: # Is the Director\n",
        "    def __init__(self, builder):\n",
        "        self.builder = builder\n",
        "\n",
        "    def construct_car(self):\n",
        "        self.builder.build_make()\n",
        "        self.builder.build_model()\n",
        "        self.builder.build_transmission()\n",
        "        self.builder.build_color()\n",
        "\n",
        "\n",
        "# Usage example\n",
        "manual_builder = ManualCarBuilder()\n",
        "manual_manufacturer = CarManufacturer(manual_builder)\n",
        "manual_manufacturer.construct_car()\n",
        "manual_car = manual_builder.get_car()\n",
        "print(manual_car)\n",
        "\n",
        "automatic_builder = AutomaticCarBuilder()\n",
        "automatic_manufacturer = CarManufacturer(automatic_builder)\n",
        "automatic_manufacturer.construct_car()\n",
        "automatic_car = automatic_builder.get_car()\n",
        "print(automatic_car)"
      ],
      "metadata": {
        "id": "yymi0GXMWTPn"
      },
      "execution_count": null,
      "outputs": []
    },
    {
      "cell_type": "markdown",
      "source": [
        "# **PROTOTYPE DESIGN PATERN**"
      ],
      "metadata": {
        "id": "Z3gHYuqsaZ1_"
      }
    },
    {
      "cell_type": "markdown",
      "source": [
        "**Problem**"
      ],
      "metadata": {
        "id": "eE1LB1Gaanlu"
      }
    },
    {
      "cell_type": "code",
      "source": [
        "class Plane:\n",
        "    def __init__(self, some_other_attr = None):\n",
        "        self.make = None\n",
        "        self.model = None\n",
        "        self.capacity = None\n",
        "        self.__some_other_attr = some_other_attr\n",
        "\n",
        "    def get_some_other_attr(self):\n",
        "        return self.__some_other_attr\n",
        "\n",
        "# Usage example\n",
        "original_plane = Plane(\"some_value\")\n",
        "original_plane.make = \"Airbus\"\n",
        "original_plane.model = \"A380\"\n",
        "original_plane.capacity = 853\n",
        "\n",
        "\n",
        "# Create a copy of the original plane\n",
        "copied_plane =  Plane()\n",
        "copied_plane.make = original_plane.make\n",
        "copied_plane.model = original_plane.model\n",
        "copied_plane.capacity = original_plane.capacity\n",
        "\n",
        "# Output the details of the original and copied planes\n",
        "print(original_plane.make, original_plane.model, original_plane.capacity, original_plane.get_some_other_attr())\n",
        "print(copied_plane.make, copied_plane.model, copied_plane.capacity,  copied_plane.get_some_other_attr())"
      ],
      "metadata": {
        "colab": {
          "base_uri": "https://localhost:8080/"
        },
        "id": "o6hy0VpUaxcs",
        "outputId": "2db7e371-09cb-4b9c-8ead-b9d5dec27a16"
      },
      "execution_count": null,
      "outputs": [
        {
          "output_type": "stream",
          "name": "stdout",
          "text": [
            "Airbus A380 853 some_value\n",
            "Airbus A380 853 None\n"
          ]
        }
      ]
    },
    {
      "cell_type": "markdown",
      "source": [
        "**Solution Basic Implementation**"
      ],
      "metadata": {
        "id": "d6fCjiWTj06J"
      }
    },
    {
      "cell_type": "code",
      "source": [
        "from abc import ABC, abstractmethod\n",
        "\n",
        "\n",
        "class Car(ABC):\n",
        "    def __init__(self, make, model, capacity):\n",
        "        self.make = make\n",
        "        self.model = model\n",
        "        self.capacity = capacity\n",
        "\n",
        "    @abstractmethod\n",
        "    def clone(self):\n",
        "        pass\n",
        "\n",
        "\n",
        "class ManualCar(Car):\n",
        "    def clone(self):\n",
        "        return ManualCar(self.make, self.model, self.capacity)\n",
        "\n",
        "\n",
        "class AutomaticCar(Car):\n",
        "    def clone(self):\n",
        "        return AutomaticCar(self.make, self.model, self.capacity)\n",
        "\n",
        "\n",
        "# Usage example\n",
        "manual_car = ManualCar(\"Toyota\", \"Corolla\", 5)\n",
        "copied_manual_car = manual_car.clone()\n",
        "\n",
        "automatic_car = AutomaticCar(\"Honda\", \"Civic\", 5)\n",
        "copied_automatic_car = automatic_car.clone()\n",
        "\n",
        "print(manual_car.make, manual_car.model, manual_car.capacity)\n",
        "print(copied_manual_car.make, copied_manual_car.model, copied_manual_car.capacity)\n",
        "\n",
        "print(automatic_car.make, automatic_car.model, automatic_car.capacity)\n",
        "print(copied_automatic_car.make, copied_automatic_car.model, copied_automatic_car.capacity)\n"
      ],
      "metadata": {
        "colab": {
          "base_uri": "https://localhost:8080/"
        },
        "id": "pdA3Ke3Oj5b8",
        "outputId": "35044f78-25cc-4aa0-f27e-5c2aaca6b28a"
      },
      "execution_count": null,
      "outputs": [
        {
          "output_type": "stream",
          "name": "stdout",
          "text": [
            "Toyota Corolla 5\n",
            "Toyota Corolla 5\n",
            "Honda Civic 5\n",
            "Honda Civic 5\n"
          ]
        }
      ]
    },
    {
      "cell_type": "code",
      "source": [
        "from abc import ABC, abstractmethod\n",
        "\n",
        "\n",
        "class Shape(ABC):\n",
        "    def __init__(self, x, y, color):\n",
        "        self.x = x\n",
        "        self.y = y\n",
        "        self.color = color\n",
        "\n",
        "    @abstractmethod\n",
        "    def clone(self):\n",
        "        pass\n",
        "\n",
        "\n",
        "class Rectangle(Shape):\n",
        "    def __init__(self, x, y, color, width, height):\n",
        "        super().__init__(x, y, color)\n",
        "        self.width = width\n",
        "        self.height = height\n",
        "\n",
        "    def clone(self):\n",
        "        return Rectangle(self.x, self.y, self.color, self.width, self.height)\n",
        "\n",
        "\n",
        "class Circle(Shape):\n",
        "    def __init__(self, x, y, color, radius):\n",
        "        super().__init__(x, y, color)\n",
        "        self.radius = radius\n",
        "\n",
        "    def clone(self):\n",
        "        return Circle(self.x, self.y, self.color, self.radius)\n",
        "\n",
        "\n",
        "# Usage example\n",
        "rectangle = Rectangle(10, 20, \"red\", 50, 30)\n",
        "cloned_rectangle = rectangle.clone()\n",
        "\n",
        "circle = Circle(5, 10, \"blue\", 15)\n",
        "cloned_circle = circle.clone()\n",
        "\n",
        "print(rectangle.x, rectangle.y, rectangle.color, rectangle.width, rectangle.height)\n",
        "print(cloned_rectangle.x, cloned_rectangle.y, cloned_rectangle.color, cloned_rectangle.width, cloned_rectangle.height)\n",
        "\n",
        "print(circle.x, circle.y, circle.color, circle.radius)\n",
        "print(cloned_circle.x, cloned_circle.y, cloned_circle.color, cloned_circle.radius)\n"
      ],
      "metadata": {
        "colab": {
          "base_uri": "https://localhost:8080/"
        },
        "id": "QthsDYpymgKt",
        "outputId": "1a67a86e-3453-4175-8cae-32902afca32a"
      },
      "execution_count": null,
      "outputs": [
        {
          "output_type": "stream",
          "name": "stdout",
          "text": [
            "10 20 red 50 30\n",
            "10 20 red 50 30\n",
            "5 10 blue 15\n",
            "5 10 blue 15\n"
          ]
        }
      ]
    },
    {
      "cell_type": "markdown",
      "source": [
        "# **SINGLETON DESIGN PATERN**"
      ],
      "metadata": {
        "id": "RevA1OhunrDp"
      }
    },
    {
      "cell_type": "markdown",
      "source": [
        "**Problem**"
      ],
      "metadata": {
        "id": "qBxkyQutnyDp"
      }
    },
    {
      "cell_type": "code",
      "source": [
        "class DatabaseConnection:\n",
        "    def __init__(self, db_name):\n",
        "        self.db_name = db_name\n",
        "        # Simulating time-consuming database connection setup\n",
        "        print(f\"Connecting to the database: {self.db_name}...\")\n",
        "\n",
        "    def execute_query(self, query):\n",
        "        print(f\"Executing query: {query} on {self.db_name} database.\")\n",
        "\n",
        "\n",
        "# Usage example\n",
        "db_connection1 = DatabaseConnection(\"my_db\")\n",
        "db_connection2 = DatabaseConnection(\"my_db\")\n",
        "\n",
        "# Output:\n",
        "# Connecting to the database: my_db...\n",
        "# Connecting to the database: my_db...\n",
        "\n",
        "db_connection1.execute_query(\"SELECT * FROM users\")\n",
        "db_connection2.execute_query(\"INSERT INTO products VALUES ('Apple', 'Red')\")\n",
        "\n",
        "# Output:\n",
        "# Executing query: SELECT * FROM users on my_db database.\n",
        "# Executing query: INSERT INTO products VALUES ('Apple', 'Red') on my_db database.\n"
      ],
      "metadata": {
        "id": "WRFFqgAUn1eW"
      },
      "execution_count": null,
      "outputs": []
    },
    {
      "cell_type": "markdown",
      "source": [
        "**Solution**"
      ],
      "metadata": {
        "id": "v4i5u9JSlcTj"
      }
    },
    {
      "cell_type": "code",
      "source": [
        "class DatabaseConnection:\n",
        "    __instance = None  # Stores the singleton instance\n",
        "\n",
        "    def __new__(cls, db_name):\n",
        "        if not cls.__instance:\n",
        "            cls.__instance = super().__new__(cls)\n",
        "        return cls.__instance\n",
        "\n",
        "    def __init__(self, db_name):\n",
        "        self.db_name = db_name\n",
        "        # Simulating time-consuming database connection setup\n",
        "        print(f\"Connecting to the database: {self.db_name}...\")\n",
        "\n",
        "    def execute_query(self, query):\n",
        "        print(f\"Executing query: {query} on {self.db_name} database.\")\n",
        "\n",
        "\n",
        "# Usage example\n",
        "db_connection1 = DatabaseConnection(\"my_db\")\n",
        "db_connection2 = DatabaseConnection(\"my_db2\")\n",
        "\n",
        "db_connection1.execute_query(\"SELECT * FROM users\")\n",
        "db_connection2.execute_query(\"INSERT INTO products VALUES ('Apple', 'Red')\")\n"
      ],
      "metadata": {
        "colab": {
          "base_uri": "https://localhost:8080/"
        },
        "id": "_Os5yNw3lgWc",
        "outputId": "5cba7792-0a30-4418-be29-6a0576780a4d"
      },
      "execution_count": 2,
      "outputs": [
        {
          "output_type": "stream",
          "name": "stdout",
          "text": [
            "Connecting to the database: my_db...\n",
            "Connecting to the database: my_db2...\n",
            "Executing query: SELECT * FROM users on my_db2 database.\n",
            "Executing query: INSERT INTO products VALUES ('Apple', 'Red') on my_db2 database.\n"
          ]
        }
      ]
    }
  ]
}