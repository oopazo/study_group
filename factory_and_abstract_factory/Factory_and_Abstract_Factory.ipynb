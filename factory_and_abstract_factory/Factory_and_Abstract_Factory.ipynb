{
 "cells": [
  {
   "cell_type": "markdown",
   "metadata": {},
   "source": [
    "# Factory Pattern"
   ]
  },
  {
   "cell_type": "markdown",
   "metadata": {},
   "source": [
    "Suppose that we want to make a videogame in this case we have three different types of enemies: **EasyEnemy, MediumEnemy, BossEnemy**. To define which enemy we are going to face, we use a random variable taht defines the enemy."
   ]
  },
  {
   "cell_type": "code",
   "execution_count": 1,
   "metadata": {},
   "outputs": [],
   "source": [
    "from abc import ABC, abstractmethod\n",
    "class Enemy(ABC):\n",
    "    \n",
    "    @abstractmethod\n",
    "    def attack(self):\n",
    "        pass\n",
    "\n",
    "    @abstractmethod\n",
    "    def defense(self):\n",
    "        pass"
   ]
  },
  {
   "cell_type": "code",
   "execution_count": 3,
   "metadata": {},
   "outputs": [],
   "source": [
    "class EasyEnemy(Enemy):\n",
    "    def attack(self):\n",
    "        pass\n",
    "    \n",
    "    def defense(self):\n",
    "        pass\n",
    "    \n",
    "class MediumEnemy(Enemy):\n",
    "    def attack(self):\n",
    "        pass\n",
    "    \n",
    "    def defense(self):\n",
    "        pass\n",
    "    \n",
    "class BossEnemy(Enemy):\n",
    "    def attack(self):\n",
    "        pass\n",
    "    \n",
    "    def defense(self):\n",
    "        pass"
   ]
  },
  {
   "cell_type": "code",
   "execution_count": 22,
   "metadata": {},
   "outputs": [],
   "source": [
    "import random\n",
    "\n",
    "def get_enemy():\n",
    "    \n",
    "    random_var = random.randint(0,9)\n",
    "    \n",
    "    if random_var < 4:\n",
    "        enemy = EasyEnemy()\n",
    "    elif random_var >= 4 and random_var < 7:\n",
    "        enemy = MediumEnemy()\n",
    "    elif random_var >= 7 and random_var <=9:\n",
    "        enemy = BossEnemy()\n",
    "        \n",
    "    return enemy"
   ]
  },
  {
   "cell_type": "code",
   "execution_count": 26,
   "metadata": {},
   "outputs": [
    {
     "data": {
      "text/plain": [
       "<__main__.EasyEnemy at 0x270c22deef0>"
      ]
     },
     "execution_count": 26,
     "metadata": {},
     "output_type": "execute_result"
    }
   ],
   "source": [
    "get_enemy()"
   ]
  },
  {
   "cell_type": "markdown",
   "metadata": {},
   "source": [
    "What happen if we want to make different levels of difficult?"
   ]
  },
  {
   "cell_type": "code",
   "execution_count": 27,
   "metadata": {},
   "outputs": [],
   "source": [
    "def get_enemy_normal():\n",
    "    \n",
    "    random_var = random.randint(0,9)\n",
    "    \n",
    "    if random_var < 4:\n",
    "        enemy = EasyEnemy()\n",
    "    elif random_var >= 4 and random_var < 7:\n",
    "        enemy = MediumEnemy()\n",
    "    elif random_var >= 7 and random_var <=9:\n",
    "        enemy = BossEnemy()\n",
    "        \n",
    "    return enemy\n",
    "\n",
    "def get_enemy_easy():\n",
    "    \n",
    "    random_var = random.randint(0,9)\n",
    "    \n",
    "    if random_var < 6:\n",
    "        enemy = EasyEnemy()\n",
    "    elif random_var >= 6 and random_var <= 8:\n",
    "        enemy = MediumEnemy()\n",
    "    elif random_var == 9:\n",
    "        enemy = BossEnemy()\n",
    "        \n",
    "    return enemy\n",
    "\n",
    "def get_enemy_difficult():\n",
    "    \n",
    "    random_var = random.randint(0,9)\n",
    "    \n",
    "    if random_var < 2:\n",
    "        enemy = EasyEnemy()\n",
    "    elif random_var >= 2 and random_var < 5:\n",
    "        enemy = MediumEnemy()\n",
    "    elif random_var >= 5 and random_var <=9:\n",
    "        enemy = BossEnemy()\n",
    "        \n",
    "    return enemy"
   ]
  },
  {
   "cell_type": "markdown",
   "metadata": {},
   "source": [
    "Using a factory"
   ]
  },
  {
   "cell_type": "code",
   "execution_count": 29,
   "metadata": {},
   "outputs": [],
   "source": [
    "class EnemyFactory:\n",
    "    \n",
    "    @abstractmethod\n",
    "    def create_enemy(self):\n",
    "        pass"
   ]
  },
  {
   "cell_type": "code",
   "execution_count": 30,
   "metadata": {},
   "outputs": [],
   "source": [
    "class EasyModeFactory(EnemyFactory):\n",
    "    \n",
    "    def __init__(self) -> None:\n",
    "        self._random_var = random.randint(0,9)\n",
    "    \n",
    "    def create_enemy(self) -> Enemy:\n",
    "        if random_var < 6:\n",
    "            return EasyEnemy()\n",
    "        elif random_var >= 6 and random_var <= 8:\n",
    "            return MediumEnemy()\n",
    "        elif random_var == 9:\n",
    "            return BossEnemy()\n",
    "        \n",
    "class NormalModeFactory(EnemyFactory):\n",
    "    \n",
    "    def __init__(self) -> None:\n",
    "        self._random_var = random.randint(0,9)\n",
    "    \n",
    "    def create_enemy(self) -> Enemy:\n",
    "        if random_var < 4:\n",
    "            return EasyEnemy()\n",
    "        elif random_var >= 4 and random_var < 7:\n",
    "            return MediumEnemy()\n",
    "        elif random_var >= 7 and random_var <=9:\n",
    "            return BossEnemy()\n",
    "        \n",
    "class DifficultModeFactory(EnemyFactory):\n",
    "    \n",
    "    def __init__(self) -> None:\n",
    "        self._random_var = random.randint(0,9)\n",
    "    \n",
    "    def create_enemy(self) -> Enemy:\n",
    "        if random_var < 2:\n",
    "            return EasyEnemy()\n",
    "        elif random_var >= 2 and random_var < 5:\n",
    "            return MediumEnemy()\n",
    "        elif random_var >= 5 and random_var <=9:\n",
    "            return BossEnemy()"
   ]
  },
  {
   "cell_type": "markdown",
   "metadata": {},
   "source": [
    "What happen if we want to make that the game have different types of enemies according to the level?\n",
    "In this case we going to use an **Abstract factory**"
   ]
  },
  {
   "cell_type": "markdown",
   "metadata": {},
   "source": [
    "# Abstract Factory"
   ]
  },
  {
   "cell_type": "markdown",
   "metadata": {},
   "source": [
    "In this case redefine our enemies"
   ]
  },
  {
   "cell_type": "code",
   "execution_count": 31,
   "metadata": {},
   "outputs": [],
   "source": [
    "class EasyEnemy(Enemy):\n",
    "    \n",
    "    def __init__(self, ice_resistance: int, fire_resistance: int, swimming: int) -> None:\n",
    "        self.ice_resistance = ice_resistance\n",
    "        self.fire_resistance = fire_resistance\n",
    "        self.swimming = swimming\n",
    "\n",
    "    def attack(self):\n",
    "        pass\n",
    "    \n",
    "    def defense(self):\n",
    "        pass\n",
    "    \n",
    "class MediumEnemy(Enemy):\n",
    "    \n",
    "    def __init__(self, ice_resistance: int, fire_resistance: int, swimming: int) -> None:\n",
    "        self.ice_resistance = ice_resistance\n",
    "        self.fire_resistance = fire_resistance\n",
    "        self.swimming = swimming\n",
    "\n",
    "    def attack(self):\n",
    "        pass\n",
    "    \n",
    "    def defense(self):\n",
    "        pass\n",
    "    \n",
    "class BossEnemy(Enemy):\n",
    "    \n",
    "    def __init__(self, ice_resistance: int, fire_resistance: int, swimming: int) -> None:\n",
    "        self.ice_resistance = ice_resistance\n",
    "        self.fire_resistance = fire_resistance\n",
    "        self.swimming = swimming\n",
    "\n",
    "    def attack(self):\n",
    "        pass\n",
    "    \n",
    "    def defense(self):\n",
    "        pass"
   ]
  },
  {
   "cell_type": "code",
   "execution_count": 35,
   "metadata": {},
   "outputs": [],
   "source": [
    "class AbstractLevelFactory(ABC):\n",
    "    \n",
    "    @abstractmethod\n",
    "    def create_easy_enemy(self):\n",
    "        pass\n",
    "    \n",
    "    @abstractmethod\n",
    "    def create_medium_enemy(self):\n",
    "        pass\n",
    "    \n",
    "    @abstractmethod\n",
    "    def create_boss_enemy(self):\n",
    "        pass"
   ]
  },
  {
   "cell_type": "code",
   "execution_count": 43,
   "metadata": {},
   "outputs": [],
   "source": [
    "class IceLevel(AbstractLevelFactory):\n",
    "    \n",
    "    def create_easy_enemy(self):\n",
    "        return EasyEnemy(\n",
    "            ice_resistance=6,\n",
    "            fire_resistance=0,\n",
    "            swimming=4\n",
    "        )\n",
    "    \n",
    "    def create_medium_enemy(self):\n",
    "        return MediumEnemy(\n",
    "            ice_resistance=7,\n",
    "            fire_resistance=0,\n",
    "            swimming=5\n",
    "        )\n",
    "    \n",
    "    def create_boss_enemy(self):\n",
    "        return BossEnemy(\n",
    "            ice_resistance=8,\n",
    "            fire_resistance=2,\n",
    "            swimming=6\n",
    "        )\n",
    "    \n",
    "class FireLevel(AbstractLevelFactory):\n",
    "    \n",
    "    def create_easy_enemy(self):\n",
    "        return EasyEnemy(\n",
    "            ice_resistance=0,\n",
    "            fire_resistance=6,\n",
    "            swimming=1\n",
    "        )\n",
    "    \n",
    "    def create_medium_enemy(self):\n",
    "        return MediumEnemy(\n",
    "            ice_resistance=0,\n",
    "            fire_resistance=7,\n",
    "            swimming=2\n",
    "        )\n",
    "    \n",
    "    def create_boss_enemy(self):\n",
    "        return BossEnemy(\n",
    "            ice_resistance=2,\n",
    "            fire_resistance=8,\n",
    "            swimming=3\n",
    "        )\n",
    "    \n",
    "class WaterLevel(AbstractLevelFactory):\n",
    "    \n",
    "    def create_easy_enemy(self):\n",
    "        return EasyEnemy(\n",
    "            ice_resistance=1,\n",
    "            fire_resistance=1,\n",
    "            swimming=7\n",
    "        )\n",
    "    \n",
    "    def create_medium_enemy(self):\n",
    "        return MediumEnemy(\n",
    "            ice_resistance=2,\n",
    "            fire_resistance=2,\n",
    "            swimming=8\n",
    "        )\n",
    "    \n",
    "    def create_boss_enemy(self):\n",
    "        return BossEnemy(\n",
    "            ice_resistance=3,\n",
    "            fire_resistance=3,\n",
    "            swimming=9\n",
    "        )"
   ]
  },
  {
   "cell_type": "code",
   "execution_count": 44,
   "metadata": {},
   "outputs": [],
   "source": [
    "class Game:\n",
    "    \n",
    "    def __init__(self, factory: AbstractLevelFactory) -> None:\n",
    "        self.factory = factory\n",
    "        \n",
    "    def choose_boss(self) -> Enemy:\n",
    "        return self.factory.create_boss_enemy()\n",
    "    \n",
    "    "
   ]
  },
  {
   "cell_type": "code",
   "execution_count": 45,
   "metadata": {},
   "outputs": [
    {
     "name": "stdout",
     "output_type": "stream",
     "text": [
      "<__main__.BossEnemy object at 0x00000270C2313048>\n"
     ]
    }
   ],
   "source": [
    "game = Game(WaterLevel())\n",
    "print(game.choose_boss())"
   ]
  },
  {
   "cell_type": "code",
   "execution_count": null,
   "metadata": {},
   "outputs": [],
   "source": []
  }
 ],
 "metadata": {
  "kernelspec": {
   "display_name": "Python 3",
   "language": "python",
   "name": "python3"
  },
  "language_info": {
   "codemirror_mode": {
    "name": "ipython",
    "version": 3
   },
   "file_extension": ".py",
   "mimetype": "text/x-python",
   "name": "python",
   "nbconvert_exporter": "python",
   "pygments_lexer": "ipython3",
   "version": "3.6.5"
  }
 },
 "nbformat": 4,
 "nbformat_minor": 2
}
